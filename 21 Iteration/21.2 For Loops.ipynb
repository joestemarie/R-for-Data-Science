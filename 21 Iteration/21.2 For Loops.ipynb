{
 "cells": [
  {
   "cell_type": "markdown",
   "metadata": {},
   "source": [
    "## 21.2 For Loops\n",
    "Write for loops to:\n",
    "1. Compute the mean of every column in mtcars.\n",
    "2. Determine the type of each column in nycflights13::flights.\n",
    "3. Compute the number of unique values in each column of iris.\n",
    "4. Generate 10 random normals for each of "
   ]
  }
 ],
 "metadata": {
  "kernelspec": {
   "display_name": "R",
   "language": "R",
   "name": "ir"
  },
  "language_info": {
   "codemirror_mode": "r",
   "file_extension": ".r",
   "mimetype": "text/x-r-source",
   "name": "R",
   "pygments_lexer": "r",
   "version": "3.4.3"
  }
 },
 "nbformat": 4,
 "nbformat_minor": 2
}
