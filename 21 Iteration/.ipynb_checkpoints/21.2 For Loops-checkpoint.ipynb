{
 "cells": [
  {
   "cell_type": "markdown",
   "metadata": {},
   "source": [
    "## 21.2 For Loops\n",
    "Write for loops to:\n",
    "1. Compute the mean of every column in mtcars.\n",
    "2. Determine the type of each column in nycflights13::flights.\n",
    "3. Compute the number of unique values in each column of iris.\n",
    "4. Generate 10 random normals for each of \n",
    "---"
   ]
  },
  {
   "cell_type": "markdown",
   "metadata": {},
   "source": [
    "**Compute the mean of every column in `mtcars`.**\n",
    "Let's define a function to do this instead, because we're having fun and honestly we might as well."
   ]
  },
  {
   "cell_type": "code",
   "execution_count": 27,
   "metadata": {
    "collapsed": false
   },
   "outputs": [
    {
     "data": {
      "text/html": [
       "<ol class=list-inline>\n",
       "\t<li>20.090625</li>\n",
       "\t<li>6.1875</li>\n",
       "\t<li>230.721875</li>\n",
       "\t<li>146.6875</li>\n",
       "\t<li>3.5965625</li>\n",
       "\t<li>3.21725</li>\n",
       "\t<li>17.84875</li>\n",
       "\t<li>0.4375</li>\n",
       "\t<li>0.40625</li>\n",
       "\t<li>3.6875</li>\n",
       "\t<li>2.8125</li>\n",
       "</ol>\n"
      ],
      "text/latex": [
       "\\begin{enumerate*}\n",
       "\\item 20.090625\n",
       "\\item 6.1875\n",
       "\\item 230.721875\n",
       "\\item 146.6875\n",
       "\\item 3.5965625\n",
       "\\item 3.21725\n",
       "\\item 17.84875\n",
       "\\item 0.4375\n",
       "\\item 0.40625\n",
       "\\item 3.6875\n",
       "\\item 2.8125\n",
       "\\end{enumerate*}\n"
      ],
      "text/markdown": [
       "1. 20.090625\n",
       "2. 6.1875\n",
       "3. 230.721875\n",
       "4. 146.6875\n",
       "5. 3.5965625\n",
       "6. 3.21725\n",
       "7. 17.84875\n",
       "8. 0.4375\n",
       "9. 0.40625\n",
       "10. 3.6875\n",
       "11. 2.8125\n",
       "\n",
       "\n"
      ],
      "text/plain": [
       " [1]  20.090625   6.187500 230.721875 146.687500   3.596563   3.217250\n",
       " [7]  17.848750   0.437500   0.406250   3.687500   2.812500"
      ]
     },
     "metadata": {},
     "output_type": "display_data"
    }
   ],
   "source": [
    "#' Compute the mean of every column in a data frame\n",
    "#'\n",
    "#' @param df a data frame\n",
    "#' @return a vector with a mean for each column\n",
    "get_column_means <- function(df) {\n",
    "    output <- vector(\"double\", ncol(df))    \n",
    "    # get the mean for every column\n",
    "    for(i in seq_along(df)) {\n",
    "        output[[i]] <- mean(df[[i]])\n",
    "    }\n",
    "    return(output)\n",
    "}\n",
    "\n",
    "# now let's test it\n",
    "get_column_means(mtcars)"
   ]
  },
  {
   "cell_type": "markdown",
   "metadata": {},
   "source": [
    "_Eh._ This is fine, but a little unsatisfying. It doesn't actually tell us anything about the data we're looking at and we're left without a lot of context.\n",
    "\n",
    "It would be much more useful for it to return summary statistics on every column. Let's see if we can tweak our function to do something a little bit funner."
   ]
  },
  {
   "cell_type": "code",
   "execution_count": 38,
   "metadata": {
    "collapsed": false
   },
   "outputs": [
    {
     "data": {
      "text/html": [
       "<dl>\n",
       "\t<dt>$mpg</dt>\n",
       "\t\t<dd><dl>\n",
       "\t<dt>$mean</dt>\n",
       "\t\t<dd>20.090625</dd>\n",
       "\t<dt>$median</dt>\n",
       "\t\t<dd>19.2</dd>\n",
       "\t<dt>$min</dt>\n",
       "\t\t<dd>10.4</dd>\n",
       "\t<dt>$max</dt>\n",
       "\t\t<dd>33.9</dd>\n",
       "\t<dt>$range</dt>\n",
       "\t\t<dd>23.5</dd>\n",
       "</dl>\n",
       "</dd>\n",
       "\t<dt>$cyl</dt>\n",
       "\t\t<dd><dl>\n",
       "\t<dt>$mean</dt>\n",
       "\t\t<dd>6.1875</dd>\n",
       "\t<dt>$median</dt>\n",
       "\t\t<dd>6</dd>\n",
       "\t<dt>$min</dt>\n",
       "\t\t<dd>4</dd>\n",
       "\t<dt>$max</dt>\n",
       "\t\t<dd>8</dd>\n",
       "\t<dt>$range</dt>\n",
       "\t\t<dd>4</dd>\n",
       "</dl>\n",
       "</dd>\n",
       "</dl>\n"
      ],
      "text/latex": [
       "\\begin{description}\n",
       "\\item[\\$mpg] \\begin{description}\n",
       "\\item[\\$mean] 20.090625\n",
       "\\item[\\$median] 19.2\n",
       "\\item[\\$min] 10.4\n",
       "\\item[\\$max] 33.9\n",
       "\\item[\\$range] 23.5\n",
       "\\end{description}\n",
       "\n",
       "\\item[\\$cyl] \\begin{description}\n",
       "\\item[\\$mean] 6.1875\n",
       "\\item[\\$median] 6\n",
       "\\item[\\$min] 4\n",
       "\\item[\\$max] 8\n",
       "\\item[\\$range] 4\n",
       "\\end{description}\n",
       "\n",
       "\\end{description}\n"
      ],
      "text/markdown": [
       "$mpg\n",
       ":   $mean\n",
       ":   20.090625\n",
       "$median\n",
       ":   19.2\n",
       "$min\n",
       ":   10.4\n",
       "$max\n",
       ":   33.9\n",
       "$range\n",
       ":   23.5\n",
       "\n",
       "\n",
       "\n",
       "$cyl\n",
       ":   $mean\n",
       ":   6.1875\n",
       "$median\n",
       ":   6\n",
       "$min\n",
       ":   4\n",
       "$max\n",
       ":   8\n",
       "$range\n",
       ":   4\n",
       "\n",
       "\n",
       "\n",
       "\n",
       "\n"
      ],
      "text/plain": [
       "$mpg\n",
       "$mpg$mean\n",
       "[1] 20.09062\n",
       "\n",
       "$mpg$median\n",
       "[1] 19.2\n",
       "\n",
       "$mpg$min\n",
       "[1] 10.4\n",
       "\n",
       "$mpg$max\n",
       "[1] 33.9\n",
       "\n",
       "$mpg$range\n",
       "[1] 23.5\n",
       "\n",
       "\n",
       "$cyl\n",
       "$cyl$mean\n",
       "[1] 6.1875\n",
       "\n",
       "$cyl$median\n",
       "[1] 6\n",
       "\n",
       "$cyl$min\n",
       "[1] 4\n",
       "\n",
       "$cyl$max\n",
       "[1] 8\n",
       "\n",
       "$cyl$range\n",
       "[1] 4\n",
       "\n"
      ]
     },
     "metadata": {},
     "output_type": "display_data"
    }
   ],
   "source": [
    "#' Get summary statistics for every column in a data frame\n",
    "#'\n",
    "#' @param df a data frame\n",
    "#' @return a data frame with a mean for each column\n",
    "get_column_stats <- function(df) {\n",
    "    # let's use a list of lists instead so we can add each column as we go through\n",
    "    # and have some additional naming power here\n",
    "    output <- list()\n",
    "\n",
    "    # get the stats for every column\n",
    "    for(i in seq_along(df)) {\n",
    "        column_name <- colnames(df)[i]\n",
    "        col_mean <- mean(df[[i]])\n",
    "        col_median <- median(df[[i]])\n",
    "        col_min <- min(df[[i]])\n",
    "        col_max <- max(df[[i]])\n",
    "        col_range <- col_max - col_min\n",
    "\n",
    "        # add these to the output\n",
    "        output[[column_name]] <- list(\n",
    "            mean = col_mean,\n",
    "            median = col_median,\n",
    "            min = col_min,\n",
    "            max = col_max,\n",
    "            range = col_range\n",
    "        )\n",
    "    }\n",
    "    return(output)\n",
    "}\n",
    "\n",
    "# now let's test it\n",
    "head(get_column_stats(mtcars), n=2)"
   ]
  },
  {
   "cell_type": "markdown",
   "metadata": {},
   "source": [
    "If we think about it, though, this function isn't really great either because it would fail on a non-numeric column, which doesn't make oodles of sense. What kind of summary would we want on text?"
   ]
  }
 ],
 "metadata": {
  "kernelspec": {
   "display_name": "R",
   "language": "R",
   "name": "ir"
  },
  "language_info": {
   "codemirror_mode": "r",
   "file_extension": ".r",
   "mimetype": "text/x-r-source",
   "name": "R",
   "pygments_lexer": "r",
   "version": "3.4.3"
  }
 },
 "nbformat": 4,
 "nbformat_minor": 2
}
